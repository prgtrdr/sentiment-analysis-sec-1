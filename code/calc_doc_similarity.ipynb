{
 "cells": [
  {
   "cell_type": "code",
   "execution_count": 1,
   "metadata": {},
   "outputs": [],
   "source": [
    "import pandas as pd\n",
    "import numpy as np\n",
    "import os\n",
    "from pathlib2 import Path\n",
    "import re\n",
    "import shutil\n",
    "import ProjectDirectory as directory\n",
    "\n",
    "# preprocess filings\n",
    "import string\n",
    "from nltk import word_tokenize\n",
    "from nltk.stem import PorterStemmer\n",
    "\n",
    "# to vectorize filing\n",
    "from sklearn.feature_extraction.text import CountVectorizer"
   ]
  },
  {
   "cell_type": "markdown",
   "metadata": {},
   "source": [
    "# Preprocessing"
   ]
  },
  {
   "cell_type": "markdown",
   "metadata": {},
   "source": [
    "**Import stopwords from LoughranMcDonald Master Dictionary**"
   ]
  },
  {
   "cell_type": "code",
   "execution_count": 2,
   "metadata": {},
   "outputs": [],
   "source": [
    "def import_master_dict_stopwords(stopwords_file_path = os.path.join(directory.get_project_dir(), 'master-dict', 'StopWords_Generic.txt')):\n",
    "#     os.chdir(stopwords_file_dir)\n",
    "#     stopwords = pd.read_csv('StopWords_Generic.txt', header=None)\n",
    "    stopwords = pd.read_csv(stopwords_file_path, header=None)[0].tolist()\n",
    "    stopwords = frozenset([word.lower() for word in stopwords])\n",
    "    return stopwords"
   ]
  },
  {
   "cell_type": "code",
   "execution_count": 3,
   "metadata": {},
   "outputs": [],
   "source": [
    "def preprocess_filing(text, stopwords=True, stemming=False):\n",
    "    \n",
    "    # remove punctuations\n",
    "    punctuation_list = set(string.punctuation)\n",
    "    text = ''.join(word for word in text if word not in punctuation_list)\n",
    "    \n",
    "    tokens = word_tokenize(text)\n",
    "    \n",
    "    if stopwords:\n",
    "        stopwords = import_master_dict_stopwords()\n",
    "        tokens = [word for word in tokens if word not in stopwords]\n",
    "        tokens = [word.lower() for word in tokens]\n",
    "\n",
    "    if stemming:\n",
    "        stemmer = PorterStemmer()\n",
    "        tokens = [stemmer.stem(word) for word in tokens]\n",
    "                \n",
    "    return tokens"
   ]
  },
  {
   "cell_type": "code",
   "execution_count": 4,
   "metadata": {},
   "outputs": [],
   "source": [
    "def vectorize_and_preprocess_filings(filings_list):\n",
    "    \"\"\"vectorizes and preprocesses filings for each company\"\"\"\n",
    "    \n",
    "    vectorizer = CountVectorizer(tokenizer=preprocess_filing)\n",
    "    X = vectorizer.fit_transform(filings_list)\n",
    "    return X"
   ]
  },
  {
   "cell_type": "markdown",
   "metadata": {},
   "source": [
    "# Calculating Similarity"
   ]
  },
  {
   "cell_type": "code",
   "execution_count": 5,
   "metadata": {},
   "outputs": [],
   "source": [
    "def calculate_consine_similarity(a, b):\n",
    "    cos_sim = np.dot(a,b) / ( np.linalg.norm(a) * np.linalg.norm(b) )\n",
    "    return cos_sim"
   ]
  },
  {
   "cell_type": "code",
   "execution_count": 6,
   "metadata": {},
   "outputs": [],
   "source": [
    "project_dir = directory.get_project_dir()\n",
    "company_dir_list = os.listdir(os.chdir(os.path.join(project_dir, 'sec-filings-downloaded')))\n",
    "\n",
    "# initialize empty dataframes with appropriate cols\n",
    "df_ten_k_results = pd.DataFrame(columns=['company', 'cosine_similarity', 'latest_filing_dt', 'previous_filing_dt'])\n",
    "df_ten_q_results = pd.DataFrame(columns=['company', 'cosine_similarity', 'latest_filing_dt', 'latest_filing_quarter', \n",
    "                                        'previous_filing_dt', 'previous_filing_quarter'])\n",
    "\n",
    "for company in company_dir_list:\n",
    "    company_dir = os.path.join(project_dir, 'sec-filings-downloaded', company)\n",
    "    os.chdir(os.path.join(company_dir, 'cleaned_filings'))\n",
    "    \n",
    "    ten_k_dict = {}\n",
    "    ten_q_dict = {}\n",
    "    \n",
    "    for file in os.listdir():\n",
    "        if file.endswith('10-K'): \n",
    "            filing_year = int(file[8:12])\n",
    "            ten_k_dict[filing_year] = file\n",
    "            \n",
    "        if file.endswith('10-Q'):\n",
    "            filing_quarter = str(file[8:10])\n",
    "            filing_year = file[11:15]            \n",
    "            ten_q_dict[str(filing_quarter) + '_' + filing_year] = file\n",
    "            \n",
    "    # Calculate consine similarity for 10-K and append to df\n",
    "    max_ten_k_year = max(ten_k_dict, key=ten_k_dict.get)\n",
    "    year_before_max_ten_k = max_ten_k_year - 1\n",
    "\n",
    "    with open(ten_k_dict[max_ten_k_year]) as file:\n",
    "        latest_ten_k = file.readline()\n",
    "    with open(ten_k_dict[year_before_max_ten_k]) as file:\n",
    "        previous_ten_k = file.readline()\n",
    "\n",
    "    ten_k_vec = vectorize_and_preprocess_filings([latest_ten_k, previous_ten_k])\n",
    "    cosine_sim_ten_k = calculate_consine_similarity(ten_k_vec.toarray()[0], ten_k_vec.toarray()[1])\n",
    "    df_ten_k_results = df_ten_k_results.append({'company': company, \n",
    "                                                'cosine_similarity': cosine_sim_ten_k, \n",
    "                                                'latest_filing_dt': ten_k_dict[max_ten_k_year][8:18],\n",
    "                                                'previous_filing_dt': ten_k_dict[year_before_max_ten_k][8:18]},\n",
    "                                               ignore_index=True)\n",
    "    \n",
    "    # calculate consine similarity for 10-Q and append to df\n",
    "#     try:\n",
    "    max_ten_q_quarter_year = max(ten_q_dict, key=ten_q_dict.get)\n",
    "    year_before_max_ten_q = max_ten_q_quarter_year[0:3]+str(int(filing_year)-1)\n",
    "\n",
    "    with open(ten_q_dict[max_ten_q_quarter_year]) as file:\n",
    "        latest_ten_q = file.readline()\n",
    "    with open(ten_q_dict[year_before_max_ten_q]) as file:\n",
    "        previous_ten_q = file.readline()\n",
    "\n",
    "    ten_q_vec = vectorize_and_preprocess_filings([latest_ten_q, previous_ten_q])\n",
    "    consine_sim_ten_q = calculate_consine_similarity(ten_q_vec.toarray()[0], ten_q_vec.toarray()[1])\n",
    "    df_ten_q_results = df_ten_q_results.append({'company': company, \n",
    "                                                'cosine_similarity': consine_sim_ten_q, \n",
    "                                                'latest_filing_dt': ten_q_dict[max_ten_q_quarter_year][11:21],\n",
    "                                                'latest_filing_quarter': ten_q_dict[max_ten_q_quarter_year][8:10],\n",
    "                                                'previous_filing_dt': ten_q_dict[year_before_max_ten_q][11:21],\n",
    "                                                'previous_filing_quarter': ten_q_dict[year_before_max_ten_q][8:10]}, \n",
    "                                               ignore_index=True)\n",
    "#     except BaseException as e:\n",
    "#         print('{}: {}'.format(company, e))"
   ]
  },
  {
   "cell_type": "code",
   "execution_count": 7,
   "metadata": {},
   "outputs": [
    {
     "output_type": "execute_result",
     "data": {
      "text/plain": [
       "               company  cosine_similarity latest_filing_dt previous_filing_dt\n",
       "0       AMAZON COM INC           0.961992       2019-02-01         2018-02-02\n",
       "1  AMERICAN EXPRESS CO           0.964479       2019-02-13         2018-02-16\n",
       "2            APPLE INC           0.971259       2018-11-05         2017-11-03\n",
       "3         Facebook Inc           0.976949       2019-01-31         2018-02-01\n",
       "4          NETFLIX INC           0.981590       2019-01-29         2018-01-29"
      ],
      "text/html": "<div>\n<style scoped>\n    .dataframe tbody tr th:only-of-type {\n        vertical-align: middle;\n    }\n\n    .dataframe tbody tr th {\n        vertical-align: top;\n    }\n\n    .dataframe thead th {\n        text-align: right;\n    }\n</style>\n<table border=\"1\" class=\"dataframe\">\n  <thead>\n    <tr style=\"text-align: right;\">\n      <th></th>\n      <th>company</th>\n      <th>cosine_similarity</th>\n      <th>latest_filing_dt</th>\n      <th>previous_filing_dt</th>\n    </tr>\n  </thead>\n  <tbody>\n    <tr>\n      <th>0</th>\n      <td>AMAZON COM INC</td>\n      <td>0.961992</td>\n      <td>2019-02-01</td>\n      <td>2018-02-02</td>\n    </tr>\n    <tr>\n      <th>1</th>\n      <td>AMERICAN EXPRESS CO</td>\n      <td>0.964479</td>\n      <td>2019-02-13</td>\n      <td>2018-02-16</td>\n    </tr>\n    <tr>\n      <th>2</th>\n      <td>APPLE INC</td>\n      <td>0.971259</td>\n      <td>2018-11-05</td>\n      <td>2017-11-03</td>\n    </tr>\n    <tr>\n      <th>3</th>\n      <td>Facebook Inc</td>\n      <td>0.976949</td>\n      <td>2019-01-31</td>\n      <td>2018-02-01</td>\n    </tr>\n    <tr>\n      <th>4</th>\n      <td>NETFLIX INC</td>\n      <td>0.981590</td>\n      <td>2019-01-29</td>\n      <td>2018-01-29</td>\n    </tr>\n  </tbody>\n</table>\n</div>"
     },
     "metadata": {},
     "execution_count": 7
    }
   ],
   "source": [
    "df_ten_k_results"
   ]
  },
  {
   "cell_type": "code",
   "execution_count": 8,
   "metadata": {},
   "outputs": [
    {
     "output_type": "execute_result",
     "data": {
      "text/plain": [
       "               company  cosine_similarity latest_filing_dt  \\\n",
       "0       AMAZON COM INC           0.941344       2018-10-26   \n",
       "1  AMERICAN EXPRESS CO           0.947840       2018-10-23   \n",
       "2            APPLE INC           0.951361       2018-08-01   \n",
       "3         Facebook Inc           0.966159       2018-10-31   \n",
       "4          NETFLIX INC           0.948795       2018-10-18   \n",
       "\n",
       "  latest_filing_quarter previous_filing_dt previous_filing_quarter  \n",
       "0                    Q3         2017-10-27                      Q3  \n",
       "1                    Q3         2017-10-24                      Q3  \n",
       "2                    Q2         2017-08-02                      Q2  \n",
       "3                    Q3         2017-11-02                      Q3  \n",
       "4                    Q3         2017-10-18                      Q3  "
      ],
      "text/html": "<div>\n<style scoped>\n    .dataframe tbody tr th:only-of-type {\n        vertical-align: middle;\n    }\n\n    .dataframe tbody tr th {\n        vertical-align: top;\n    }\n\n    .dataframe thead th {\n        text-align: right;\n    }\n</style>\n<table border=\"1\" class=\"dataframe\">\n  <thead>\n    <tr style=\"text-align: right;\">\n      <th></th>\n      <th>company</th>\n      <th>cosine_similarity</th>\n      <th>latest_filing_dt</th>\n      <th>latest_filing_quarter</th>\n      <th>previous_filing_dt</th>\n      <th>previous_filing_quarter</th>\n    </tr>\n  </thead>\n  <tbody>\n    <tr>\n      <th>0</th>\n      <td>AMAZON COM INC</td>\n      <td>0.941344</td>\n      <td>2018-10-26</td>\n      <td>Q3</td>\n      <td>2017-10-27</td>\n      <td>Q3</td>\n    </tr>\n    <tr>\n      <th>1</th>\n      <td>AMERICAN EXPRESS CO</td>\n      <td>0.947840</td>\n      <td>2018-10-23</td>\n      <td>Q3</td>\n      <td>2017-10-24</td>\n      <td>Q3</td>\n    </tr>\n    <tr>\n      <th>2</th>\n      <td>APPLE INC</td>\n      <td>0.951361</td>\n      <td>2018-08-01</td>\n      <td>Q2</td>\n      <td>2017-08-02</td>\n      <td>Q2</td>\n    </tr>\n    <tr>\n      <th>3</th>\n      <td>Facebook Inc</td>\n      <td>0.966159</td>\n      <td>2018-10-31</td>\n      <td>Q3</td>\n      <td>2017-11-02</td>\n      <td>Q3</td>\n    </tr>\n    <tr>\n      <th>4</th>\n      <td>NETFLIX INC</td>\n      <td>0.948795</td>\n      <td>2018-10-18</td>\n      <td>Q3</td>\n      <td>2017-10-18</td>\n      <td>Q3</td>\n    </tr>\n  </tbody>\n</table>\n</div>"
     },
     "metadata": {},
     "execution_count": 8
    }
   ],
   "source": [
    "df_ten_q_results"
   ]
  },
  {
   "cell_type": "code",
   "execution_count": null,
   "metadata": {
    "collapsed": true
   },
   "outputs": [],
   "source": []
  }
 ],
 "metadata": {
  "kernelspec": {
   "display_name": "Python 3",
   "language": "python",
   "name": "python3"
  },
  "language_info": {
   "codemirror_mode": {
    "name": "ipython",
    "version": 3
   },
   "file_extension": ".py",
   "mimetype": "text/x-python",
   "name": "python",
   "nbconvert_exporter": "python",
   "pygments_lexer": "ipython3",
   "version": "3.8.3-final"
  }
 },
 "nbformat": 4,
 "nbformat_minor": 2
}